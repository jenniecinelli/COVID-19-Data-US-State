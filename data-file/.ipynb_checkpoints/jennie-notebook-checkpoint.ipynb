{
 "cells": [
  {
   "cell_type": "code",
   "execution_count": 1,
   "metadata": {},
   "outputs": [],
   "source": [
    "import requests\n",
    "import json\n",
    "import pandas as pd\n",
    "from sodapy import Socrata"
   ]
  },
  {
   "cell_type": "code",
   "execution_count": 2,
   "metadata": {},
   "outputs": [],
   "source": [
    "us_state_abbrev = {\n",
    "    'United States': 'USA',\n",
    "    'Alabama': 'AL',\n",
    "    'Alaska': 'AK',\n",
    "    'Arizona': 'AZ',\n",
    "    'Arkansas': 'AR',\n",
    "    'California': 'CA',\n",
    "    'Colorado': 'CO',\n",
    "    'Connecticut': 'CT',\n",
    "    'Delaware': 'DE',\n",
    "    'District of Columbia': 'DC',\n",
    "    'Florida': 'FL',\n",
    "    'Georgia': 'GA',\n",
    "    'Hawaii': 'HI',\n",
    "    'Idaho': 'ID',\n",
    "    'Illinois': 'IL',\n",
    "    'Indiana': 'IN',\n",
    "    'Iowa': 'IA',\n",
    "    'Kansas': 'KS',\n",
    "    'Kentucky': 'KY',\n",
    "    'Louisiana': 'LA',\n",
    "    'Maine': 'ME',\n",
    "    'Maryland': 'MD',\n",
    "    'Massachusetts': 'MA',\n",
    "    'Michigan': 'MI',\n",
    "    'Minnesota': 'MN',\n",
    "    'Mississippi': 'MS',\n",
    "    'Missouri': 'MO',\n",
    "    'Montana': 'MT',\n",
    "    'Nebraska': 'NE',\n",
    "    'Nevada': 'NV',\n",
    "    'New Hampshire': 'NH',\n",
    "    'New Jersey': 'NJ',\n",
    "    'New Mexico': 'NM',\n",
    "    'New York City':\"NYC\",\n",
    "    'New York': 'NY',\n",
    "    'North Carolina': 'NC',\n",
    "    'North Dakota': 'ND',\n",
    "    'Ohio': 'OH',\n",
    "    'Oklahoma': 'OK',\n",
    "    'Oregon': 'OR',\n",
    "    'Pennsylvania': 'PA',\n",
    "    'Rhode Island': 'RI',\n",
    "    'South Carolina': 'SC',\n",
    "    'South Dakota': 'SD',\n",
    "    'Tennessee': 'TN',\n",
    "    'Texas': 'TX',\n",
    "    'Utah': 'UT',\n",
    "    'Vermont': 'VT',\n",
    "    'Virginia': 'VA',\n",
    "    'Washington': 'WA',\n",
    "    'West Virginia': 'WV',\n",
    "    'Wisconsin': 'WI',\n",
    "    'Wyoming': 'WY',\n",
    "}"
   ]
  },
  {
   "cell_type": "code",
   "execution_count": 3,
   "metadata": {
    "scrolled": true
   },
   "outputs": [],
   "source": [
    "base_url = \"https://data.cdc.gov/resource/9bhg-hcku.json\"\n",
    "response = requests.get(base_url)\n",
    "cdc_data = response.json()"
   ]
  },
  {
   "cell_type": "code",
   "execution_count": 4,
   "metadata": {
    "scrolled": true
   },
   "outputs": [
    {
     "name": "stderr",
     "output_type": "stream",
     "text": [
      "WARNING:root:Requests made without an app_token will be subject to strict throttling limits.\n"
     ]
    }
   ],
   "source": [
    "client = Socrata(\"data.cdc.gov\", None)\n",
    "\n",
    "results = client.get(\"9bhg-hcku\", limit=6000)\n",
    "\n",
    "results_df = pd.DataFrame.from_records(results)\n",
    "#results_df"
   ]
  },
  {
   "cell_type": "code",
   "execution_count": 5,
   "metadata": {
    "scrolled": false
   },
   "outputs": [],
   "source": [
    "results_df = results_df.loc[results_df['group']==\"By Total\"]"
   ]
  },
  {
   "cell_type": "code",
   "execution_count": null,
   "metadata": {
    "scrolled": true
   },
   "outputs": [],
   "source": []
  },
  {
   "cell_type": "code",
   "execution_count": 6,
   "metadata": {},
   "outputs": [],
   "source": [
    "sex_df = results_df.loc[results_df['age_group']==\"All Ages\"]"
   ]
  },
  {
   "cell_type": "code",
   "execution_count": 7,
   "metadata": {},
   "outputs": [],
   "source": [
    "del sex_df['data_as_of']\n",
    "del sex_df['start_date']\n",
    "del sex_df['end_date']\n",
    "del sex_df['group']\n",
    "del sex_df['age_group']\n",
    "del sex_df['total_deaths']\n",
    "del sex_df['pneumonia_deaths']\n",
    "del sex_df['pneumonia_and_covid_19_deaths']\n",
    "del sex_df['influenza_deaths']\n",
    "del sex_df['pneumonia_influenza_or_covid']\n",
    "del sex_df['footnote']"
   ]
  },
  {
   "cell_type": "code",
   "execution_count": 8,
   "metadata": {
    "scrolled": true
   },
   "outputs": [],
   "source": [
    "male_df = sex_df.loc[sex_df[\"sex\"]==\"Male\"]\n",
    "#male_df"
   ]
  },
  {
   "cell_type": "code",
   "execution_count": 9,
   "metadata": {},
   "outputs": [],
   "source": [
    "female_df = sex_df.loc[sex_df[\"sex\"]==\"Female\"]\n",
    "#female_df"
   ]
  },
  {
   "cell_type": "code",
   "execution_count": 10,
   "metadata": {},
   "outputs": [],
   "source": [
    "merged_df = pd.merge(male_df, female_df, on='state')"
   ]
  },
  {
   "cell_type": "code",
   "execution_count": 11,
   "metadata": {
    "scrolled": true
   },
   "outputs": [],
   "source": [
    "#merged_df"
   ]
  },
  {
   "cell_type": "code",
   "execution_count": 12,
   "metadata": {
    "scrolled": true
   },
   "outputs": [],
   "source": [
    "all_df = sex_df.loc[sex_df[\"sex\"]==\"All Sexes\"]\n",
    "#all_df.head()"
   ]
  },
  {
   "cell_type": "code",
   "execution_count": 13,
   "metadata": {},
   "outputs": [],
   "source": [
    "new_df = pd.merge(merged_df, all_df, how='left', on='state')"
   ]
  },
  {
   "cell_type": "code",
   "execution_count": 14,
   "metadata": {},
   "outputs": [],
   "source": [
    "#new_df.head()"
   ]
  },
  {
   "cell_type": "code",
   "execution_count": 15,
   "metadata": {},
   "outputs": [],
   "source": [
    "del new_df['sex_x']\n",
    "del new_df['sex_y']\n",
    "del new_df['sex']\n",
    "del new_df['year']\n",
    "del new_df['year_x']\n",
    "del new_df['year_y']"
   ]
  },
  {
   "cell_type": "code",
   "execution_count": 16,
   "metadata": {
    "scrolled": false
   },
   "outputs": [],
   "source": [
    "new_df = new_df.rename(columns={\"state\":\"State\", \"covid_19_deaths_x\":\"Male COVID-19 Deaths\", \"covid_19_deaths_y\": \"Female COVID-19 Deaths\", \"covid_19_deaths\":\"All Sexes COVID-19 Deaths\"})"
   ]
  },
  {
   "cell_type": "code",
   "execution_count": 17,
   "metadata": {},
   "outputs": [],
   "source": [
    "new_df = new_df.loc[new_df['State']!=\"Puerto Rico\"]"
   ]
  },
  {
   "cell_type": "code",
   "execution_count": 18,
   "metadata": {},
   "outputs": [],
   "source": [
    "#new_df"
   ]
  },
  {
   "cell_type": "code",
   "execution_count": 19,
   "metadata": {},
   "outputs": [
    {
     "name": "stderr",
     "output_type": "stream",
     "text": [
      "WARNING:root:Requests made without an app_token will be subject to strict throttling limits.\n"
     ]
    }
   ],
   "source": [
    "client = Socrata(\"data.cdc.gov\", None)\n",
    "\n",
    "results = client.get(\"9bhg-hcku\", limit=6000)\n",
    "\n",
    "results_df = pd.DataFrame.from_records(results)\n"
   ]
  },
  {
   "cell_type": "code",
   "execution_count": 20,
   "metadata": {},
   "outputs": [],
   "source": [
    "results_df = results_df.loc[results_df['group']==\"By Total\"]"
   ]
  },
  {
   "cell_type": "code",
   "execution_count": 21,
   "metadata": {},
   "outputs": [],
   "source": [
    "age_df = results_df.loc[results_df['sex']==\"All Sexes\"]"
   ]
  },
  {
   "cell_type": "code",
   "execution_count": 22,
   "metadata": {},
   "outputs": [],
   "source": [
    "del age_df['data_as_of']\n",
    "del age_df['start_date']\n",
    "del age_df['end_date']\n",
    "del age_df['group']\n",
    "del age_df['sex']\n",
    "del age_df['total_deaths']\n",
    "del age_df['pneumonia_deaths']\n",
    "del age_df['pneumonia_and_covid_19_deaths']\n",
    "del age_df['influenza_deaths']\n",
    "del age_df['pneumonia_influenza_or_covid']\n",
    "del age_df['footnote']\n",
    "del age_df['year']"
   ]
  },
  {
   "cell_type": "code",
   "execution_count": 23,
   "metadata": {
    "scrolled": false
   },
   "outputs": [],
   "source": [
    "#age_df"
   ]
  },
  {
   "cell_type": "code",
   "execution_count": 24,
   "metadata": {
    "scrolled": true
   },
   "outputs": [
    {
     "data": {
      "text/plain": [
       "5-14 years           54\n",
       "25-34 years          54\n",
       "40-49 years          54\n",
       "35-44 years          54\n",
       "15-24 years          54\n",
       "30-39 years          54\n",
       "50-64 years          54\n",
       "45-54 years          54\n",
       "55-64 years          54\n",
       "75-84 years          54\n",
       "0-17 years           54\n",
       "All Ages             54\n",
       "Under 1 year         54\n",
       "1-4 years            54\n",
       "65-74 years          54\n",
       "18-29 years          54\n",
       "85 years and over    54\n",
       "Name: age_group, dtype: int64"
      ]
     },
     "execution_count": 24,
     "metadata": {},
     "output_type": "execute_result"
    }
   ],
   "source": [
    "age_df[\"age_group\"].value_counts()"
   ]
  },
  {
   "cell_type": "code",
   "execution_count": 25,
   "metadata": {},
   "outputs": [],
   "source": [
    "age_df = age_df.loc[age_df['age_group'] != \"18-29 years\"]\n",
    "age_df = age_df.loc[age_df['age_group'] != \"0-17 years\"]\n",
    "age_df = age_df.loc[age_df['age_group'] != \"Under 1 year\"]\n",
    "age_df = age_df.loc[age_df['age_group'] != \"30-39 years\"]\n",
    "age_df = age_df.loc[age_df['age_group'] != \"40-49 years\"]\n",
    "age_df = age_df.loc[age_df['age_group'] != \"50-64 years\"]"
   ]
  },
  {
   "cell_type": "code",
   "execution_count": 26,
   "metadata": {
    "scrolled": true
   },
   "outputs": [
    {
     "data": {
      "text/plain": [
       "5-14 years           54\n",
       "75-84 years          54\n",
       "25-34 years          54\n",
       "45-54 years          54\n",
       "Under 5 years        54\n",
       "15-24 years          54\n",
       "65-74 years          54\n",
       "35-44 years          54\n",
       "85 years and over    54\n",
       "All Ages             54\n",
       "55-64 years          54\n",
       "Name: age_group, dtype: int64"
      ]
     },
     "execution_count": 26,
     "metadata": {},
     "output_type": "execute_result"
    }
   ],
   "source": [
    "age_df = age_df.replace({\"1-4 years\":\"Under 5 years\"})\n",
    "age_df['age_group'].value_counts()"
   ]
  },
  {
   "cell_type": "code",
   "execution_count": 27,
   "metadata": {
    "scrolled": true
   },
   "outputs": [],
   "source": [
    "#age_df.fillna(0)"
   ]
  },
  {
   "cell_type": "code",
   "execution_count": 28,
   "metadata": {
    "scrolled": true
   },
   "outputs": [],
   "source": [
    "under5_df = age_df.loc[age_df[\"age_group\"]==\"Under 5 years\"]"
   ]
  },
  {
   "cell_type": "code",
   "execution_count": 29,
   "metadata": {},
   "outputs": [],
   "source": [
    "year5_14_df = age_df.loc[age_df[\"age_group\"]==\"5-14 years\"]"
   ]
  },
  {
   "cell_type": "code",
   "execution_count": 30,
   "metadata": {},
   "outputs": [],
   "source": [
    "year15_24_df = age_df.loc[age_df[\"age_group\"]==\"15-24 years\"]"
   ]
  },
  {
   "cell_type": "code",
   "execution_count": 31,
   "metadata": {},
   "outputs": [],
   "source": [
    "year25_34_df = age_df.loc[age_df[\"age_group\"]==\"25-34 years\"]"
   ]
  },
  {
   "cell_type": "code",
   "execution_count": 32,
   "metadata": {},
   "outputs": [],
   "source": [
    "year35_44_df = age_df.loc[age_df[\"age_group\"]==\"35-44 years\"]"
   ]
  },
  {
   "cell_type": "code",
   "execution_count": 33,
   "metadata": {},
   "outputs": [],
   "source": [
    "year45_54_df = age_df.loc[age_df[\"age_group\"]==\"45-54 years\"]"
   ]
  },
  {
   "cell_type": "code",
   "execution_count": 34,
   "metadata": {},
   "outputs": [],
   "source": [
    "year55_64_df = age_df.loc[age_df[\"age_group\"]==\"55-64 years\"]"
   ]
  },
  {
   "cell_type": "code",
   "execution_count": 35,
   "metadata": {},
   "outputs": [],
   "source": [
    "year65_74_df = age_df.loc[age_df[\"age_group\"]==\"65-74 years\"]"
   ]
  },
  {
   "cell_type": "code",
   "execution_count": 36,
   "metadata": {},
   "outputs": [],
   "source": [
    "year75_84_df = age_df.loc[age_df[\"age_group\"]==\"75-84 years\"]"
   ]
  },
  {
   "cell_type": "code",
   "execution_count": 37,
   "metadata": {},
   "outputs": [],
   "source": [
    "year85_df = age_df.loc[age_df[\"age_group\"]==\"85 years and over\"]"
   ]
  },
  {
   "cell_type": "code",
   "execution_count": 38,
   "metadata": {},
   "outputs": [],
   "source": [
    "all_ages_df = age_df.loc[age_df[\"age_group\"]==\"All Ages\"]"
   ]
  },
  {
   "cell_type": "code",
   "execution_count": 39,
   "metadata": {
    "scrolled": true
   },
   "outputs": [],
   "source": [
    "merged_age = pd.merge(under5_df, year5_14_df, on='state')\n",
    "merged_age = pd.merge(merged_age, year15_24_df, on ='state')\n",
    "#merged_age.head()"
   ]
  },
  {
   "cell_type": "code",
   "execution_count": 40,
   "metadata": {
    "scrolled": false
   },
   "outputs": [],
   "source": [
    "merged_age = merged_age.rename(columns={\n",
    "                                \"covid_19_deaths_x\":\"Under 5 Years COVID-19 Deaths\", \n",
    "                                \"covid_19_deaths_y\": \"5-14 Years COVID-19 Deaths\", \n",
    "                                \"covid_19_deaths\":\"15-24 Years COVID-19 Deaths\"\n",
    "                                       })\n",
    "del merged_age['age_group_x']\n",
    "del merged_age['age_group_y']\n",
    "del merged_age['age_group']\n",
    "#merged_age.head()"
   ]
  },
  {
   "cell_type": "code",
   "execution_count": 41,
   "metadata": {},
   "outputs": [],
   "source": [
    "merged_age = pd.merge(merged_age, year25_34_df, on ='state')\n",
    "merged_age = pd.merge(merged_age, year35_44_df, on ='state')\n",
    "merged_age = merged_age.rename(columns={\n",
    "                                \"covid_19_deaths_x\":\"25-34 Years COVID-19 Deaths\", \n",
    "                                \"covid_19_deaths_y\": \"35-44 Years COVID-19 Deaths\"\n",
    "                                       })\n",
    "del merged_age['age_group_x']\n",
    "del merged_age['age_group_y']\n",
    "#merged_age.head()"
   ]
  },
  {
   "cell_type": "code",
   "execution_count": 42,
   "metadata": {
    "scrolled": true
   },
   "outputs": [],
   "source": [
    "merged_age = pd.merge(merged_age, year45_54_df, on ='state')\n",
    "merged_age = pd.merge(merged_age, year55_64_df, on ='state')\n",
    "merged_age = merged_age.rename(columns={\n",
    "                                \"covid_19_deaths_x\":\"45-54 Years COVID-19 Deaths\", \n",
    "                                \"covid_19_deaths_y\": \"55-64 Years COVID-19 Deaths\"\n",
    "                                       })\n",
    "del merged_age['age_group_x']\n",
    "del merged_age['age_group_y']\n",
    "#merged_age.head()"
   ]
  },
  {
   "cell_type": "code",
   "execution_count": 43,
   "metadata": {},
   "outputs": [],
   "source": [
    "merged_age = pd.merge(merged_age, year65_74_df, on ='state')\n",
    "merged_age = pd.merge(merged_age, year75_84_df, on ='state')\n",
    "merged_age = merged_age.rename(columns={\n",
    "                                \"covid_19_deaths_x\":\"65-74 Years COVID-19 Deaths\", \n",
    "                                \"covid_19_deaths_y\": \"75-84 Years COVID-19 Deaths\"\n",
    "                                       })\n",
    "del merged_age['age_group_x']\n",
    "del merged_age['age_group_y']\n",
    "#merged_age.head()"
   ]
  },
  {
   "cell_type": "code",
   "execution_count": 44,
   "metadata": {},
   "outputs": [],
   "source": [
    "merged_age = pd.merge(merged_age, year85_df, on ='state')\n",
    "merged_age = pd.merge(merged_age, all_ages_df, on='state')\n",
    "merged_age = merged_age.rename(columns={\n",
    "                                \"covid_19_deaths_x\":\"85 Years and Over COVID-19 Deaths\",\n",
    "                                \"covid_19_deaths_y\":\"All Ages COVID-19 Deaths\"\n",
    "                                       })\n",
    "del merged_age['age_group_x']\n",
    "del merged_age['age_group_y']\n",
    "#merged_age.head()"
   ]
  },
  {
   "cell_type": "code",
   "execution_count": 45,
   "metadata": {},
   "outputs": [],
   "source": [
    "merged_age = merged_age.fillna(0)"
   ]
  },
  {
   "cell_type": "code",
   "execution_count": 46,
   "metadata": {},
   "outputs": [],
   "source": [
    "merged_age = merged_age.loc[merged_age['state']!='Puerto Rico']"
   ]
  },
  {
   "cell_type": "code",
   "execution_count": 47,
   "metadata": {},
   "outputs": [],
   "source": [
    "merged_age = merged_age.rename(columns={\"state\":\"State\"})\n",
    "#merged_age.head()"
   ]
  },
  {
   "cell_type": "code",
   "execution_count": 48,
   "metadata": {},
   "outputs": [],
   "source": [
    "age_sex_df = pd.merge(new_df, merged_age, on='State')\n",
    "#age_sex_df"
   ]
  },
  {
   "cell_type": "code",
   "execution_count": 49,
   "metadata": {},
   "outputs": [],
   "source": [
    "age_sex_df = age_sex_df.fillna(0)\n",
    "#age_sex_df"
   ]
  },
  {
   "cell_type": "code",
   "execution_count": 50,
   "metadata": {
    "scrolled": true
   },
   "outputs": [],
   "source": [
    "for index, row in age_sex_df.iterrows():\n",
    "    state = row[0]\n",
    "    age_sex_df.loc[index,\"State\"] = us_state_abbrev[state]"
   ]
  },
  {
   "cell_type": "code",
   "execution_count": 51,
   "metadata": {},
   "outputs": [],
   "source": [
    "#age_sex_df"
   ]
  },
  {
   "cell_type": "code",
   "execution_count": 52,
   "metadata": {},
   "outputs": [],
   "source": [
    "#age_sex_df.to_csv(\"../data-file/total-age-sex-data.csv\", index=False, header=True)"
   ]
  },
  {
   "cell_type": "code",
   "execution_count": 53,
   "metadata": {},
   "outputs": [],
   "source": [
    "population_df = pd.read_csv(\"../data-file/Population_byCDCAgeGroup_byState.csv\")"
   ]
  },
  {
   "cell_type": "code",
   "execution_count": 54,
   "metadata": {},
   "outputs": [],
   "source": [
    "for index, row in population_df.iterrows():\n",
    "    state = row[2]\n",
    "    population_df.loc[index,\"State\"] = us_state_abbrev[state]"
   ]
  },
  {
   "cell_type": "code",
   "execution_count": 55,
   "metadata": {},
   "outputs": [],
   "source": [
    "population_df = population_df[['State', 'CDC_AgeGroups', 'Population']]"
   ]
  },
  {
   "cell_type": "code",
   "execution_count": 56,
   "metadata": {},
   "outputs": [],
   "source": [
    "\n",
    "under5_pop = population_df.loc[population_df['CDC_AgeGroups']==\"Under 5 years\"]\n",
    "years5_14_pop = population_df.loc[population_df['CDC_AgeGroups']==\"5-14 years\"]\n",
    "years15_24_pop = population_df.loc[population_df['CDC_AgeGroups']==\"15-24 years\"]\n",
    "years25_34_pop = population_df.loc[population_df['CDC_AgeGroups']==\"25-34 years\"]\n",
    "years35_44_pop = population_df.loc[population_df['CDC_AgeGroups']==\"35-44 years\"]\n",
    "years45_54_pop = population_df.loc[population_df['CDC_AgeGroups']==\"45-54 years\"]\n",
    "years55_64_pop = population_df.loc[population_df['CDC_AgeGroups']==\"55-64 years\"]\n",
    "years65_74_pop = population_df.loc[population_df['CDC_AgeGroups']==\"65-74 years\"]\n",
    "years75_84_pop = population_df.loc[population_df['CDC_AgeGroups']==\"75-84 years\"]\n",
    "years85_pop = population_df.loc[population_df['CDC_AgeGroups']==\"85 years and over\"]\n",
    "all_ages_pop = population_df.loc[population_df['CDC_AgeGroups']==\"Total\"]\n",
    "\n"
   ]
  },
  {
   "cell_type": "code",
   "execution_count": 57,
   "metadata": {},
   "outputs": [],
   "source": [
    "merged_pop = pd.merge(under5_pop, years5_14_pop, on ='State')\n",
    "merged_pop = pd.merge(merged_pop, years15_24_pop, on='State')\n",
    "merged_pop = merged_pop.rename(columns={\n",
    "                                \"Population_x\":\"Under 5 Years Population\",\n",
    "                                \"Population_y\":\"5-14 Years Population\",\n",
    "                                \"Population\":\"15-24 Years Population\"\n",
    "                                       })\n",
    "del merged_pop['CDC_AgeGroups_x']\n",
    "del merged_pop['CDC_AgeGroups_y']\n",
    "del merged_pop['CDC_AgeGroups']\n",
    "#merged_pop.head()"
   ]
  },
  {
   "cell_type": "code",
   "execution_count": 58,
   "metadata": {},
   "outputs": [],
   "source": [
    "merged_pop = pd.merge(merged_pop, years25_34_pop, on ='State')\n",
    "merged_pop = pd.merge(merged_pop, years35_44_pop, on='State')\n",
    "merged_pop = pd.merge(merged_pop, years45_54_pop, on='State')\n",
    "merged_pop = merged_pop.rename(columns={\n",
    "                                \"Population_x\":\"25-34 Years Population\",\n",
    "                                \"Population_y\":\"35-44 Years Population\",\n",
    "                                \"Population\":\"45-54 Years Population\"\n",
    "                                       })\n",
    "del merged_pop['CDC_AgeGroups_x']\n",
    "del merged_pop['CDC_AgeGroups_y']\n",
    "del merged_pop['CDC_AgeGroups']\n",
    "#merged_pop.head()"
   ]
  },
  {
   "cell_type": "code",
   "execution_count": 59,
   "metadata": {},
   "outputs": [],
   "source": [
    "merged_pop = pd.merge(merged_pop, years55_64_pop, on ='State')\n",
    "merged_pop = pd.merge(merged_pop, years65_74_pop, on='State')\n",
    "merged_pop = pd.merge(merged_pop, years75_84_pop, on='State')\n",
    "merged_pop = merged_pop.rename(columns={\n",
    "                                \"Population_x\":\"55-64 Years Population\",\n",
    "                                \"Population_y\":\"65-74 Years Population\",\n",
    "                                \"Population\":\"75-84 Years Population\"\n",
    "                                       })\n",
    "del merged_pop['CDC_AgeGroups_x']\n",
    "del merged_pop['CDC_AgeGroups_y']\n",
    "del merged_pop['CDC_AgeGroups']\n",
    "#merged_pop.head()"
   ]
  },
  {
   "cell_type": "code",
   "execution_count": 60,
   "metadata": {
    "scrolled": true
   },
   "outputs": [],
   "source": [
    "merged_pop = pd.merge(merged_pop, years85_pop, on ='State')\n",
    "merged_pop = pd.merge(merged_pop, all_ages_pop, on ='State')\n",
    "\n",
    "\n",
    "merged_pop = merged_pop.rename(columns={\n",
    "                                \"Population_x\":\"85 Years and Over Population\",\n",
    "                                \"Population_y\":\"Total Population\"\n",
    "                                       })\n",
    "\n",
    "del merged_pop['CDC_AgeGroups_x']\n",
    "del merged_pop['CDC_AgeGroups_y']\n",
    "#merged_pop.head()"
   ]
  },
  {
   "cell_type": "code",
   "execution_count": 61,
   "metadata": {},
   "outputs": [
    {
     "data": {
      "text/plain": [
       "327533774.0"
      ]
     },
     "execution_count": 61,
     "metadata": {},
     "output_type": "execute_result"
    }
   ],
   "source": [
    "merged_pop['Total Population'].sum()"
   ]
  },
  {
   "cell_type": "code",
   "execution_count": 62,
   "metadata": {},
   "outputs": [],
   "source": [
    "new_row_pop = {'State':'USA', 'Under 5 Years Population':19531315.0, \n",
    "              '5-14 Years Population':40926765.0, \n",
    "              '15-24 Years Population':42599542.0,\n",
    "              '25-34 Years Population':45775780.0,\n",
    "              '35-44 Years Population':41550175.0,\n",
    "              '45-54 Years Population':40800616.0,\n",
    "              '55-64 Years Population':42378661.0,\n",
    "              '65-74 Years Population':31433214.0,\n",
    "              '75-84 Years Population':15944990.0,\n",
    "              '85 Years and Over Population':6592716.0,\n",
    "                'Total Population': 327533774.0\n",
    "              \n",
    "             }\n",
    "#append row to the dataframe\n",
    "merged_pop = merged_pop.append(new_row_pop, ignore_index=True)"
   ]
  },
  {
   "cell_type": "code",
   "execution_count": 63,
   "metadata": {},
   "outputs": [],
   "source": [
    "new_dfff = pd.merge(age_sex_df, merged_pop, on='State')"
   ]
  },
  {
   "cell_type": "code",
   "execution_count": 64,
   "metadata": {},
   "outputs": [],
   "source": [
    "new_dfff = new_dfff[['State', 'Male COVID-19 Deaths', 'Female COVID-19 Deaths', 'All Sexes COVID-19 Deaths',\n",
    "                     'Under 5 Years COVID-19 Deaths', 'Under 5 Years Population',\n",
    "                    '5-14 Years COVID-19 Deaths', '5-14 Years Population',\n",
    "                    '15-24 Years COVID-19 Deaths', '15-24 Years Population',\n",
    "                     '25-34 Years COVID-19 Deaths', '25-34 Years Population',\n",
    "                     '35-44 Years COVID-19 Deaths', '35-44 Years Population',\n",
    "                     '45-54 Years COVID-19 Deaths', '45-54 Years Population',\n",
    "                     '55-64 Years COVID-19 Deaths', '55-64 Years Population',\n",
    "                     '65-74 Years COVID-19 Deaths', '65-74 Years Population',\n",
    "                     '75-84 Years COVID-19 Deaths', '75-84 Years Population',\n",
    "                     '85 Years and Over COVID-19 Deaths', '85 Years and Over Population',\n",
    "                     'All Ages COVID-19 Deaths', 'Total Population'\n",
    "                    ]]\n",
    "#new_dfff.head()"
   ]
  },
  {
   "cell_type": "code",
   "execution_count": 65,
   "metadata": {},
   "outputs": [],
   "source": [
    "#new_dfff.to_csv(\"../data-file/total-pop-death-data.csv\", index=False, header=True)"
   ]
  },
  {
   "cell_type": "code",
   "execution_count": 66,
   "metadata": {
    "scrolled": true
   },
   "outputs": [],
   "source": [
    "base_url = \"https://api.census.gov/data/2019/acs/acs1?get=NAME,B01001_002E,B01001_026E&for=state:*\"\n",
    "response = requests.get(base_url)\n",
    "\n",
    "\n",
    "response = requests.get(base_url)\n",
    "census_data = response.json()"
   ]
  },
  {
   "cell_type": "code",
   "execution_count": 67,
   "metadata": {},
   "outputs": [],
   "source": [
    "df = pd.DataFrame(census_data[1:], columns=census_data[0])\n",
    "df = df.sort_values(by=['state'])"
   ]
  },
  {
   "cell_type": "code",
   "execution_count": 68,
   "metadata": {
    "scrolled": false
   },
   "outputs": [],
   "source": [
    "df = df.rename(columns={\"B01001_002E\":'Male Population', 'B01001_026E':'Female Population'})"
   ]
  },
  {
   "cell_type": "code",
   "execution_count": 69,
   "metadata": {},
   "outputs": [],
   "source": [
    "df[\"Male Population\"] = pd.to_numeric(df[\"Male Population\"], downcast=\"float\")\n",
    "df[\"Female Population\"] = pd.to_numeric(df[\"Female Population\"], downcast=\"float\")"
   ]
  },
  {
   "cell_type": "code",
   "execution_count": 70,
   "metadata": {},
   "outputs": [],
   "source": [
    "new_row = {'NAME':'United States', 'Male Population':163104960.0, \n",
    "              'Female Population':168328240.0\n",
    "             }\n",
    "#append row to the dataframe\n",
    "df = df.append(new_row, ignore_index=True)"
   ]
  },
  {
   "cell_type": "code",
   "execution_count": 71,
   "metadata": {},
   "outputs": [],
   "source": [
    "df = df.drop(columns=['state'])"
   ]
  },
  {
   "cell_type": "code",
   "execution_count": 72,
   "metadata": {},
   "outputs": [],
   "source": [
    "df = df.drop([8, 51])"
   ]
  },
  {
   "cell_type": "code",
   "execution_count": 73,
   "metadata": {},
   "outputs": [],
   "source": [
    "df = df.reset_index(drop=True)"
   ]
  },
  {
   "cell_type": "code",
   "execution_count": 74,
   "metadata": {},
   "outputs": [],
   "source": [
    "for index, row in df.iterrows():\n",
    "    state = row[0]\n",
    "    df.loc[index,\"NAME\"] = us_state_abbrev[state]"
   ]
  },
  {
   "cell_type": "code",
   "execution_count": 75,
   "metadata": {
    "scrolled": true
   },
   "outputs": [],
   "source": [
    "df = df.rename(columns={'NAME': 'State'})"
   ]
  },
  {
   "cell_type": "code",
   "execution_count": 76,
   "metadata": {},
   "outputs": [],
   "source": [
    "pop_merged = pd.merge(df, new_dfff, on = 'State')"
   ]
  },
  {
   "cell_type": "code",
   "execution_count": 77,
   "metadata": {},
   "outputs": [],
   "source": [
    "pop_merged = pop_merged[['State', 'Male COVID-19 Deaths', 'Male Population', 'Female COVID-19 Deaths', 'Female Population',\n",
    "                     'All Sexes COVID-19 Deaths', 'Under 5 Years COVID-19 Deaths', 'Under 5 Years Population',\n",
    "                    '5-14 Years COVID-19 Deaths', '5-14 Years Population',\n",
    "                    '15-24 Years COVID-19 Deaths', '15-24 Years Population',\n",
    "                     '25-34 Years COVID-19 Deaths', '25-34 Years Population',\n",
    "                     '35-44 Years COVID-19 Deaths', '35-44 Years Population',\n",
    "                     '45-54 Years COVID-19 Deaths', '45-54 Years Population',\n",
    "                     '55-64 Years COVID-19 Deaths', '55-64 Years Population',\n",
    "                     '65-74 Years COVID-19 Deaths', '65-74 Years Population',\n",
    "                     '75-84 Years COVID-19 Deaths', '75-84 Years Population',\n",
    "                     '85 Years and Over COVID-19 Deaths', '85 Years and Over Population',\n",
    "                     'All Ages COVID-19 Deaths', 'Total Population'\n",
    "                    ]]\n",
    "#pop_merged.head()"
   ]
  },
  {
   "cell_type": "code",
   "execution_count": 78,
   "metadata": {},
   "outputs": [],
   "source": [
    "race_url = \"https://data.cdc.gov/resource/pj7m-y5uh.json\"\n",
    "response = requests.get(race_url)\n",
    "race_data = response.json()"
   ]
  },
  {
   "cell_type": "code",
   "execution_count": 79,
   "metadata": {},
   "outputs": [
    {
     "name": "stderr",
     "output_type": "stream",
     "text": [
      "WARNING:root:Requests made without an app_token will be subject to strict throttling limits.\n"
     ]
    }
   ],
   "source": [
    "client = Socrata(\"data.cdc.gov\", None)\n",
    "\n",
    "race_results = client.get(\"pj7m-y5uh\", limit=6000)\n",
    "\n",
    "race_df = pd.DataFrame.from_records(race_results)"
   ]
  },
  {
   "cell_type": "code",
   "execution_count": 80,
   "metadata": {},
   "outputs": [],
   "source": [
    "race_df = race_df.loc[race_df['group']==\"By Total\"]\n",
    "race_df = race_df.loc[race_df['indicator']==\"Count of COVID-19 deaths\"]"
   ]
  },
  {
   "cell_type": "code",
   "execution_count": 81,
   "metadata": {},
   "outputs": [],
   "source": [
    "race_df = race_df.drop(columns=['data_as_of', 'start_week', 'end_week', 'year', 'group', 'indicator', 'month', 'footnote'])"
   ]
  },
  {
   "cell_type": "code",
   "execution_count": 82,
   "metadata": {},
   "outputs": [],
   "source": [
    "race_df = race_df.rename(columns={'state':'State', 'non_hispanic_white': \"White Deaths\",\n",
    "                                  'non_hispanic_black_african_american':'Black/African American Deaths',\n",
    "                                 'non_hispanic_american_indian_alaska_native':'American Indian/Alaska Native Deaths',\n",
    "                                  'non_hispanic_asian_pacific_islander':'Asian Pacific Islander Deaths',\n",
    "                                  'nh_nhopi':'Native Hawaiian/Other Pacific Islander Deaths',\n",
    "                                  'non_hispanic_more_than_one_race':'More than one Race Deaths',\n",
    "                                  'hispanic_latino_total':'Hispanic/Latino Deaths'\n",
    "                                 })\n",
    "#race_df.head()"
   ]
  },
  {
   "cell_type": "code",
   "execution_count": 83,
   "metadata": {},
   "outputs": [],
   "source": [
    "race_df = race_df.reset_index(drop=True)"
   ]
  },
  {
   "cell_type": "code",
   "execution_count": 84,
   "metadata": {},
   "outputs": [],
   "source": [
    "for index, row in race_df.iterrows():\n",
    "    state = row[0]\n",
    "    race_df.loc[index,\"State\"] = us_state_abbrev[state]"
   ]
  },
  {
   "cell_type": "code",
   "execution_count": 85,
   "metadata": {},
   "outputs": [],
   "source": [
    "race_df = race_df.fillna(0)"
   ]
  },
  {
   "cell_type": "code",
   "execution_count": 86,
   "metadata": {},
   "outputs": [],
   "source": [
    "#race_df.head()"
   ]
  },
  {
   "cell_type": "code",
   "execution_count": 87,
   "metadata": {},
   "outputs": [],
   "source": [
    "race_pop_url = \"https://api.census.gov/data/2019/acs/acs1?get=NAME,B01001A_001E,B01001B_001E,B01001C_001E,B01001D_001E,B01001E_001E,B01001G_002E,B01001I_001E&for=state:*\"\n",
    "response = requests.get(race_pop_url)\n",
    "\n",
    "\n",
    "race_pop_response = requests.get(race_pop_url)\n",
    "race_pop_data = race_pop_response.json()"
   ]
  },
  {
   "cell_type": "code",
   "execution_count": 88,
   "metadata": {},
   "outputs": [],
   "source": [
    "race_pop_df = pd.DataFrame(race_pop_data[1:], columns=race_pop_data[0])\n",
    "race_pop_df = race_pop_df.sort_values(by=['state'])"
   ]
  },
  {
   "cell_type": "code",
   "execution_count": 89,
   "metadata": {},
   "outputs": [],
   "source": [
    "race_pop_df = race_pop_df.reset_index(drop=True)"
   ]
  },
  {
   "cell_type": "code",
   "execution_count": 90,
   "metadata": {},
   "outputs": [],
   "source": [
    "race_pop_df = race_pop_df.rename(columns={'NAME':'State','B01001A_001E':'White Population',\n",
    "                                          'B01001B_001E':'Black/African American Population',\n",
    "                                          'B01001C_001E':'American Indian/Alaska Native Population',\n",
    "                                          'B01001D_001E':'Asian Population',\n",
    "                                          'B01001E_001E':'Native Hawaiian/Other Pacific Islander Population',\n",
    "                                          'B01001G_002E':'More than one Race Population',\n",
    "                                          'B01001I_001E':'Hispanic/Latino Population'\n",
    "                                         })\n",
    "#race_pop_df.head()"
   ]
  },
  {
   "cell_type": "code",
   "execution_count": 91,
   "metadata": {},
   "outputs": [],
   "source": [
    "race_pop_df = race_pop_df.fillna(0)"
   ]
  },
  {
   "cell_type": "code",
   "execution_count": 92,
   "metadata": {},
   "outputs": [],
   "source": [
    "race_pop_df[\"White Population\"] = pd.to_numeric(race_pop_df[\"White Population\"], downcast=\"float\")\n",
    "race_pop_df[\"Black/African American Population\"] = pd.to_numeric(race_pop_df[\"Black/African American Population\"], downcast=\"float\")\n",
    "race_pop_df[\"American Indian/Alaska Native Population\"] = pd.to_numeric(race_pop_df[\"American Indian/Alaska Native Population\"], downcast=\"float\")\n",
    "race_pop_df[\"Asian Population\"] = pd.to_numeric(race_pop_df[\"Asian Population\"], downcast=\"float\")\n",
    "race_pop_df[\"Native Hawaiian/Other Pacific Islander Population\"] = pd.to_numeric(race_pop_df[\"Native Hawaiian/Other Pacific Islander Population\"], downcast=\"float\")\n",
    "race_pop_df[\"More than one Race Population\"] = pd.to_numeric(race_pop_df[\"More than one Race Population\"], downcast=\"float\")\n",
    "race_pop_df[\"Hispanic/Latino Population\"] = pd.to_numeric(race_pop_df[\"Hispanic/Latino Population\"], downcast=\"float\")"
   ]
  },
  {
   "cell_type": "code",
   "execution_count": 93,
   "metadata": {},
   "outputs": [],
   "source": [
    "new_row_race = {'State':'United States', 'White Population':238530160.0, \n",
    "              'Black/African American Population':42357500.0,\n",
    "               'American Indian/Alaska Native Population':2815045.0,\n",
    "               'Asian Population':18632352.0,\n",
    "               'Native Hawaiian/Other Pacific Islander Population':496290.0,\n",
    "               'More than one Race Population':5752848.0,\n",
    "               'Hispanic/Latino Population':63616508.0\n",
    "             }\n",
    "#append row to the dataframe\n",
    "race_pop_df = race_pop_df.append(new_row_race, ignore_index=True)"
   ]
  },
  {
   "cell_type": "code",
   "execution_count": 94,
   "metadata": {},
   "outputs": [],
   "source": [
    "race_pop_df = race_pop_df.drop(columns=['state'])"
   ]
  },
  {
   "cell_type": "code",
   "execution_count": 95,
   "metadata": {},
   "outputs": [],
   "source": [
    "race_pop_df = race_pop_df.drop([8, 51])"
   ]
  },
  {
   "cell_type": "code",
   "execution_count": 96,
   "metadata": {
    "scrolled": true
   },
   "outputs": [],
   "source": [
    "race_pop_df = race_pop_df.reset_index(drop=True)"
   ]
  },
  {
   "cell_type": "code",
   "execution_count": 97,
   "metadata": {},
   "outputs": [],
   "source": [
    "for index, row in race_pop_df.iterrows():\n",
    "    state = row[0]\n",
    "    race_pop_df.loc[index,\"State\"] = us_state_abbrev[state]"
   ]
  },
  {
   "cell_type": "code",
   "execution_count": 98,
   "metadata": {},
   "outputs": [],
   "source": [
    "#race_pop_df.head()"
   ]
  },
  {
   "cell_type": "code",
   "execution_count": 99,
   "metadata": {},
   "outputs": [],
   "source": [
    "race_merge = pd.merge(race_df, race_pop_df, on ='State')"
   ]
  },
  {
   "cell_type": "code",
   "execution_count": 100,
   "metadata": {},
   "outputs": [],
   "source": [
    "race_merge = race_merge[['State', \n",
    "                         'White Deaths', 'White Population', \n",
    "                         'Black/African American Deaths', 'Black/African American Population',\n",
    "                         'American Indian/Alaska Native Deaths', 'American Indian/Alaska Native Population', \n",
    "                         'Asian Pacific Islander Deaths', 'Asian Population',\n",
    "                         'Native Hawaiian/Other Pacific Islander Deaths', 'Native Hawaiian/Other Pacific Islander Population',\n",
    "                         'More than one Race Deaths', 'More than one Race Population',\n",
    "                         'Hispanic/Latino Deaths', 'Hispanic/Latino Population'\n",
    "                    ]]\n",
    "#race_merge.head()"
   ]
  },
  {
   "cell_type": "code",
   "execution_count": 101,
   "metadata": {},
   "outputs": [
    {
     "data": {
      "text/html": [
       "<div>\n",
       "<style scoped>\n",
       "    .dataframe tbody tr th:only-of-type {\n",
       "        vertical-align: middle;\n",
       "    }\n",
       "\n",
       "    .dataframe tbody tr th {\n",
       "        vertical-align: top;\n",
       "    }\n",
       "\n",
       "    .dataframe thead th {\n",
       "        text-align: right;\n",
       "    }\n",
       "</style>\n",
       "<table border=\"1\" class=\"dataframe\">\n",
       "  <thead>\n",
       "    <tr style=\"text-align: right;\">\n",
       "      <th></th>\n",
       "      <th>State</th>\n",
       "      <th>Male COVID-19 Deaths</th>\n",
       "      <th>Male Population</th>\n",
       "      <th>Female COVID-19 Deaths</th>\n",
       "      <th>Female Population</th>\n",
       "      <th>All Sexes COVID-19 Deaths</th>\n",
       "      <th>Under 5 Years COVID-19 Deaths</th>\n",
       "      <th>Under 5 Years Population</th>\n",
       "      <th>5-14 Years COVID-19 Deaths</th>\n",
       "      <th>5-14 Years Population</th>\n",
       "      <th>...</th>\n",
       "      <th>American Indian/Alaska Native Deaths</th>\n",
       "      <th>American Indian/Alaska Native Population</th>\n",
       "      <th>Asian Pacific Islander Deaths</th>\n",
       "      <th>Asian Population</th>\n",
       "      <th>Native Hawaiian/Other Pacific Islander Deaths</th>\n",
       "      <th>Native Hawaiian/Other Pacific Islander Population</th>\n",
       "      <th>More than one Race Deaths</th>\n",
       "      <th>More than one Race Population</th>\n",
       "      <th>Hispanic/Latino Deaths</th>\n",
       "      <th>Hispanic/Latino Population</th>\n",
       "    </tr>\n",
       "  </thead>\n",
       "  <tbody>\n",
       "    <tr>\n",
       "      <th>0</th>\n",
       "      <td>AL</td>\n",
       "      <td>5643</td>\n",
       "      <td>2369611.0</td>\n",
       "      <td>4903</td>\n",
       "      <td>2533574.0</td>\n",
       "      <td>10546</td>\n",
       "      <td>0</td>\n",
       "      <td>294357.0</td>\n",
       "      <td>0</td>\n",
       "      <td>608466.0</td>\n",
       "      <td>...</td>\n",
       "      <td>16</td>\n",
       "      <td>23265.0</td>\n",
       "      <td>48</td>\n",
       "      <td>66129.0</td>\n",
       "      <td>0</td>\n",
       "      <td>0.0</td>\n",
       "      <td>0</td>\n",
       "      <td>42835.0</td>\n",
       "      <td>189</td>\n",
       "      <td>219296.0</td>\n",
       "    </tr>\n",
       "    <tr>\n",
       "      <th>1</th>\n",
       "      <td>AK</td>\n",
       "      <td>197</td>\n",
       "      <td>380433.0</td>\n",
       "      <td>138</td>\n",
       "      <td>351112.0</td>\n",
       "      <td>335</td>\n",
       "      <td>0</td>\n",
       "      <td>51080.0</td>\n",
       "      <td>0</td>\n",
       "      <td>100662.0</td>\n",
       "      <td>...</td>\n",
       "      <td>113</td>\n",
       "      <td>115544.0</td>\n",
       "      <td>34</td>\n",
       "      <td>43678.0</td>\n",
       "      <td>20</td>\n",
       "      <td>0.0</td>\n",
       "      <td>10</td>\n",
       "      <td>28459.0</td>\n",
       "      <td>15</td>\n",
       "      <td>52548.0</td>\n",
       "    </tr>\n",
       "    <tr>\n",
       "      <th>2</th>\n",
       "      <td>AZ</td>\n",
       "      <td>9215</td>\n",
       "      <td>3620935.0</td>\n",
       "      <td>6434</td>\n",
       "      <td>3657782.0</td>\n",
       "      <td>15649</td>\n",
       "      <td>0</td>\n",
       "      <td>429788.0</td>\n",
       "      <td>0</td>\n",
       "      <td>930745.0</td>\n",
       "      <td>...</td>\n",
       "      <td>1604</td>\n",
       "      <td>332273.0</td>\n",
       "      <td>324</td>\n",
       "      <td>241721.0</td>\n",
       "      <td>36</td>\n",
       "      <td>14168.0</td>\n",
       "      <td>143</td>\n",
       "      <td>146550.0</td>\n",
       "      <td>4834</td>\n",
       "      <td>2310592.0</td>\n",
       "    </tr>\n",
       "    <tr>\n",
       "      <th>3</th>\n",
       "      <td>AR</td>\n",
       "      <td>3083</td>\n",
       "      <td>1474705.0</td>\n",
       "      <td>2853</td>\n",
       "      <td>1543099.0</td>\n",
       "      <td>5936</td>\n",
       "      <td>0</td>\n",
       "      <td>188464.0</td>\n",
       "      <td>0</td>\n",
       "      <td>393213.0</td>\n",
       "      <td>...</td>\n",
       "      <td>39</td>\n",
       "      <td>17216.0</td>\n",
       "      <td>47</td>\n",
       "      <td>46078.0</td>\n",
       "      <td>58</td>\n",
       "      <td>12829.0</td>\n",
       "      <td>24</td>\n",
       "      <td>42358.0</td>\n",
       "      <td>234</td>\n",
       "      <td>231951.0</td>\n",
       "    </tr>\n",
       "    <tr>\n",
       "      <th>4</th>\n",
       "      <td>CA</td>\n",
       "      <td>37663</td>\n",
       "      <td>19640794.0</td>\n",
       "      <td>26104</td>\n",
       "      <td>19871428.0</td>\n",
       "      <td>63767</td>\n",
       "      <td>0</td>\n",
       "      <td>2383716.0</td>\n",
       "      <td>0</td>\n",
       "      <td>5007987.0</td>\n",
       "      <td>...</td>\n",
       "      <td>297</td>\n",
       "      <td>321112.0</td>\n",
       "      <td>7964</td>\n",
       "      <td>5865435.0</td>\n",
       "      <td>348</td>\n",
       "      <td>155871.0</td>\n",
       "      <td>396</td>\n",
       "      <td>999761.0</td>\n",
       "      <td>30439</td>\n",
       "      <td>15574882.0</td>\n",
       "    </tr>\n",
       "  </tbody>\n",
       "</table>\n",
       "<p>5 rows × 42 columns</p>\n",
       "</div>"
      ],
      "text/plain": [
       "  State Male COVID-19 Deaths  Male Population Female COVID-19 Deaths  \\\n",
       "0    AL                 5643        2369611.0                   4903   \n",
       "1    AK                  197         380433.0                    138   \n",
       "2    AZ                 9215        3620935.0                   6434   \n",
       "3    AR                 3083        1474705.0                   2853   \n",
       "4    CA                37663       19640794.0                  26104   \n",
       "\n",
       "   Female Population All Sexes COVID-19 Deaths Under 5 Years COVID-19 Deaths  \\\n",
       "0          2533574.0                     10546                             0   \n",
       "1           351112.0                       335                             0   \n",
       "2          3657782.0                     15649                             0   \n",
       "3          1543099.0                      5936                             0   \n",
       "4         19871428.0                     63767                             0   \n",
       "\n",
       "   Under 5 Years Population 5-14 Years COVID-19 Deaths  5-14 Years Population  \\\n",
       "0                  294357.0                          0               608466.0   \n",
       "1                   51080.0                          0               100662.0   \n",
       "2                  429788.0                          0               930745.0   \n",
       "3                  188464.0                          0               393213.0   \n",
       "4                 2383716.0                          0              5007987.0   \n",
       "\n",
       "   ... American Indian/Alaska Native Deaths  \\\n",
       "0  ...                                   16   \n",
       "1  ...                                  113   \n",
       "2  ...                                 1604   \n",
       "3  ...                                   39   \n",
       "4  ...                                  297   \n",
       "\n",
       "   American Indian/Alaska Native Population Asian Pacific Islander Deaths  \\\n",
       "0                                   23265.0                            48   \n",
       "1                                  115544.0                            34   \n",
       "2                                  332273.0                           324   \n",
       "3                                   17216.0                            47   \n",
       "4                                  321112.0                          7964   \n",
       "\n",
       "   Asian Population Native Hawaiian/Other Pacific Islander Deaths  \\\n",
       "0           66129.0                                             0   \n",
       "1           43678.0                                            20   \n",
       "2          241721.0                                            36   \n",
       "3           46078.0                                            58   \n",
       "4         5865435.0                                           348   \n",
       "\n",
       "   Native Hawaiian/Other Pacific Islander Population  \\\n",
       "0                                                0.0   \n",
       "1                                                0.0   \n",
       "2                                            14168.0   \n",
       "3                                            12829.0   \n",
       "4                                           155871.0   \n",
       "\n",
       "  More than one Race Deaths  More than one Race Population  \\\n",
       "0                         0                        42835.0   \n",
       "1                        10                        28459.0   \n",
       "2                       143                       146550.0   \n",
       "3                        24                        42358.0   \n",
       "4                       396                       999761.0   \n",
       "\n",
       "  Hispanic/Latino Deaths  Hispanic/Latino Population  \n",
       "0                    189                    219296.0  \n",
       "1                     15                     52548.0  \n",
       "2                   4834                   2310592.0  \n",
       "3                    234                    231951.0  \n",
       "4                  30439                  15574882.0  \n",
       "\n",
       "[5 rows x 42 columns]"
      ]
     },
     "execution_count": 101,
     "metadata": {},
     "output_type": "execute_result"
    }
   ],
   "source": [
    "demographic_age = pd.merge(pop_merged, race_merge, how='left', on='State')\n",
    "demographic_age.head()"
   ]
  },
  {
   "cell_type": "code",
   "execution_count": 102,
   "metadata": {},
   "outputs": [],
   "source": [
    "demographic_age.to_csv(\"../data-file/demographic_age.csv\", index=False, header=True)"
   ]
  }
 ],
 "metadata": {
  "kernelspec": {
   "display_name": "Python 3",
   "language": "python",
   "name": "python3"
  },
  "language_info": {
   "codemirror_mode": {
    "name": "ipython",
    "version": 3
   },
   "file_extension": ".py",
   "mimetype": "text/x-python",
   "name": "python",
   "nbconvert_exporter": "python",
   "pygments_lexer": "ipython3",
   "version": "3.8.5"
  }
 },
 "nbformat": 4,
 "nbformat_minor": 4
}
